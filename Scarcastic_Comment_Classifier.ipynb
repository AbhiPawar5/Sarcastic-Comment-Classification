{
  "nbformat": 4,
  "nbformat_minor": 0,
  "metadata": {
    "colab": {
      "name": "Scarcastic Comment Classifier.ipynb",
      "provenance": [],
      "collapsed_sections": [
        "peAI_VgK8qid",
        "qmldxMuWKkAi",
        "7nsP7GBANv1Q"
      ],
      "toc_visible": true
    },
    "kernelspec": {
      "name": "python3",
      "display_name": "Python 3"
    },
    "accelerator": "GPU"
  },
  "cells": [
    {
      "cell_type": "markdown",
      "metadata": {
        "id": "peAI_VgK8qid"
      },
      "source": [
        "# Mount Drive and Imports"
      ]
    },
    {
      "cell_type": "code",
      "metadata": {
        "colab": {
          "base_uri": "https://localhost:8080/"
        },
        "id": "tlli-CgACpEX",
        "outputId": "9ca71fbb-30d4-4d46-e332-08f3b92456d6"
      },
      "source": [
        "from google.colab import drive\r\n",
        "drive.mount('/content/drive')"
      ],
      "execution_count": 1,
      "outputs": [
        {
          "output_type": "stream",
          "text": [
            "Mounted at /content/drive\n"
          ],
          "name": "stdout"
        }
      ]
    },
    {
      "cell_type": "code",
      "metadata": {
        "id": "ErrfYSjtHT9M"
      },
      "source": [
        "from sklearn.feature_extraction.text import CountVectorizer\r\n",
        "from sklearn.model_selection import train_test_split\r\n",
        "from sklearn.preprocessing import LabelEncoder\r\n",
        "from sklearn.preprocessing import OneHotEncoder\r\n",
        "from sklearn.model_selection import RandomizedSearchCV\r\n",
        "from sklearn.metrics import classification_report, accuracy_score\r\n",
        "\r\n",
        "from sklearn.linear_model import LogisticRegression\r\n",
        "from sklearn import ensemble \r\n",
        "\r\n",
        "import pandas as pd"
      ],
      "execution_count": 39,
      "outputs": []
    },
    {
      "cell_type": "code",
      "metadata": {
        "id": "BGq2eaSWR-3x"
      },
      "source": [
        "from keras.models import Sequential\r\n",
        "from keras import layers\r\n",
        "from keras.preprocessing.text import Tokenizer\r\n",
        "from keras.preprocessing.sequence import pad_sequences\r\n",
        "from keras.wrappers.scikit_learn import KerasClassifier"
      ],
      "execution_count": 3,
      "outputs": []
    },
    {
      "cell_type": "code",
      "metadata": {
        "id": "qt5Ctt2AR-1N"
      },
      "source": [
        ""
      ],
      "execution_count": null,
      "outputs": []
    },
    {
      "cell_type": "markdown",
      "metadata": {
        "id": "K8fDcQtk8ulZ"
      },
      "source": [
        "# EDA and Model Building with Count Vectorizer"
      ]
    },
    {
      "cell_type": "code",
      "metadata": {
        "colab": {
          "base_uri": "https://localhost:8080/",
          "height": 539
        },
        "id": "DOk7RtMkHs2K",
        "outputId": "0b503ee8-e08a-4c6e-8d3d-abac12816c3b"
      },
      "source": [
        "df_train = pd.read_csv(\"/content/drive/MyDrive/ML_datasets/sarcastic dataset/Train.csv\")\r\n",
        "df_train.head()"
      ],
      "execution_count": 4,
      "outputs": [
        {
          "output_type": "execute_result",
          "data": {
            "text/html": [
              "<div>\n",
              "<style scoped>\n",
              "    .dataframe tbody tr th:only-of-type {\n",
              "        vertical-align: middle;\n",
              "    }\n",
              "\n",
              "    .dataframe tbody tr th {\n",
              "        vertical-align: top;\n",
              "    }\n",
              "\n",
              "    .dataframe thead th {\n",
              "        text-align: right;\n",
              "    }\n",
              "</style>\n",
              "<table border=\"1\" class=\"dataframe\">\n",
              "  <thead>\n",
              "    <tr style=\"text-align: right;\">\n",
              "      <th></th>\n",
              "      <th>ID</th>\n",
              "      <th>comment</th>\n",
              "      <th>date</th>\n",
              "      <th>down</th>\n",
              "      <th>parent_comment</th>\n",
              "      <th>score</th>\n",
              "      <th>top</th>\n",
              "      <th>topic</th>\n",
              "      <th>user</th>\n",
              "      <th>label</th>\n",
              "    </tr>\n",
              "  </thead>\n",
              "  <tbody>\n",
              "    <tr>\n",
              "      <th>0</th>\n",
              "      <td>uid_590555</td>\n",
              "      <td>Well, let's be honest here, they don't actuall...</td>\n",
              "      <td>2015-04</td>\n",
              "      <td>0</td>\n",
              "      <td>They should shut the fuck up and let the commu...</td>\n",
              "      <td>2</td>\n",
              "      <td>2</td>\n",
              "      <td>starcitizen</td>\n",
              "      <td>Combat_Wombatz</td>\n",
              "      <td>0</td>\n",
              "    </tr>\n",
              "    <tr>\n",
              "      <th>1</th>\n",
              "      <td>uid_671762</td>\n",
              "      <td>Well, I didn't need evidence to believe in com...</td>\n",
              "      <td>2016-12</td>\n",
              "      <td>-1</td>\n",
              "      <td>You need evidence to kill people? I thought we...</td>\n",
              "      <td>6</td>\n",
              "      <td>-1</td>\n",
              "      <td>EnoughCommieSpam</td>\n",
              "      <td>starkadd</td>\n",
              "      <td>1</td>\n",
              "    </tr>\n",
              "    <tr>\n",
              "      <th>2</th>\n",
              "      <td>uid_519689</td>\n",
              "      <td>Who does an \"official promo\" in 360p?</td>\n",
              "      <td>2013-11</td>\n",
              "      <td>0</td>\n",
              "      <td>2014 BMW S1000R: Official Promo</td>\n",
              "      <td>3</td>\n",
              "      <td>3</td>\n",
              "      <td>motorcycles</td>\n",
              "      <td>phybere</td>\n",
              "      <td>0</td>\n",
              "    </tr>\n",
              "    <tr>\n",
              "      <th>3</th>\n",
              "      <td>uid_788362</td>\n",
              "      <td>Grotto koth was the best</td>\n",
              "      <td>2015-09</td>\n",
              "      <td>0</td>\n",
              "      <td>Not really that memorable lol if you want memo...</td>\n",
              "      <td>2</td>\n",
              "      <td>2</td>\n",
              "      <td>hcfactions</td>\n",
              "      <td>m0xyMC</td>\n",
              "      <td>1</td>\n",
              "    </tr>\n",
              "    <tr>\n",
              "      <th>4</th>\n",
              "      <td>uid_299252</td>\n",
              "      <td>Neal's back baby</td>\n",
              "      <td>2015-11</td>\n",
              "      <td>0</td>\n",
              "      <td>James Neal hit on Zach Parise</td>\n",
              "      <td>-5</td>\n",
              "      <td>-5</td>\n",
              "      <td>hockey</td>\n",
              "      <td>Somuch101</td>\n",
              "      <td>1</td>\n",
              "    </tr>\n",
              "  </tbody>\n",
              "</table>\n",
              "</div>"
            ],
            "text/plain": [
              "           ID  ... label\n",
              "0  uid_590555  ...     0\n",
              "1  uid_671762  ...     1\n",
              "2  uid_519689  ...     0\n",
              "3  uid_788362  ...     1\n",
              "4  uid_299252  ...     1\n",
              "\n",
              "[5 rows x 10 columns]"
            ]
          },
          "metadata": {
            "tags": []
          },
          "execution_count": 4
        }
      ]
    },
    {
      "cell_type": "code",
      "metadata": {
        "id": "hlN7SIKMH65q",
        "colab": {
          "base_uri": "https://localhost:8080/"
        },
        "outputId": "810ca8f3-1a59-4816-d11f-28a5fa6f0dbd"
      },
      "source": [
        "df_train.shape"
      ],
      "execution_count": 61,
      "outputs": [
        {
          "output_type": "execute_result",
          "data": {
            "text/plain": [
              "(15000, 10)"
            ]
          },
          "metadata": {
            "tags": []
          },
          "execution_count": 61
        }
      ]
    },
    {
      "cell_type": "code",
      "metadata": {
        "colab": {
          "base_uri": "https://localhost:8080/",
          "height": 55
        },
        "id": "W61ObKmX9TwU",
        "outputId": "14de34d7-b595-49d9-ba8f-4520101bd797"
      },
      "source": [
        "df_train.iloc[0]['comment']"
      ],
      "execution_count": 6,
      "outputs": [
        {
          "output_type": "execute_result",
          "data": {
            "application/vnd.google.colaboratory.intrinsic+json": {
              "type": "string"
            },
            "text/plain": [
              "\"Well, let's be honest here, they don't actually seem to do much moderating, so they have to spend their time doing *something*.\""
            ]
          },
          "metadata": {
            "tags": []
          },
          "execution_count": 6
        }
      ]
    },
    {
      "cell_type": "code",
      "metadata": {
        "colab": {
          "base_uri": "https://localhost:8080/",
          "height": 36
        },
        "id": "ADbVRiOM9Ttu",
        "outputId": "b8e89b35-739a-418f-c42c-309f9d3d98ee"
      },
      "source": [
        "df_train.iloc[2]['comment']"
      ],
      "execution_count": 7,
      "outputs": [
        {
          "output_type": "execute_result",
          "data": {
            "application/vnd.google.colaboratory.intrinsic+json": {
              "type": "string"
            },
            "text/plain": [
              "'Who does an \"official promo\" in 360p?'"
            ]
          },
          "metadata": {
            "tags": []
          },
          "execution_count": 7
        }
      ]
    },
    {
      "cell_type": "code",
      "metadata": {
        "colab": {
          "base_uri": "https://localhost:8080/"
        },
        "id": "abTAdXrS9lod",
        "outputId": "31e0c032-7e21-470b-d651-1b6f4b650054"
      },
      "source": [
        "df_train['label'].value_counts()"
      ],
      "execution_count": 9,
      "outputs": [
        {
          "output_type": "execute_result",
          "data": {
            "text/plain": [
              "1    7527\n",
              "0    7473\n",
              "Name: label, dtype: int64"
            ]
          },
          "metadata": {
            "tags": []
          },
          "execution_count": 9
        }
      ]
    },
    {
      "cell_type": "code",
      "metadata": {
        "id": "8jEXvKkkJc3j"
      },
      "source": [
        "sentences = df_train[['comment']].values\r\n",
        "y = df_train['label'].values\r\n",
        "\r\n",
        "sentences_train, sentences_test, y_train, y_test = train_test_split(sentences, y, test_size=0.25, random_state=1000)"
      ],
      "execution_count": 11,
      "outputs": []
    },
    {
      "cell_type": "code",
      "metadata": {
        "id": "M0S9j1O6Jc1R"
      },
      "source": [
        ""
      ],
      "execution_count": 11,
      "outputs": []
    },
    {
      "cell_type": "code",
      "metadata": {
        "id": "Ry1FhsIaJczE"
      },
      "source": [
        "vectorizer = CountVectorizer()\r\n",
        "vectorizer.fit(sentences_train.ravel())\r\n",
        "\r\n",
        "X_train = vectorizer.transform(sentences_train.ravel())\r\n",
        "X_test  = vectorizer.transform(sentences_test.ravel())"
      ],
      "execution_count": 15,
      "outputs": []
    },
    {
      "cell_type": "code",
      "metadata": {
        "id": "hj1TFidJJcw5"
      },
      "source": [
        ""
      ],
      "execution_count": 15,
      "outputs": []
    },
    {
      "cell_type": "code",
      "metadata": {
        "colab": {
          "base_uri": "https://localhost:8080/"
        },
        "id": "0x8MoNCBJcun",
        "outputId": "fd3c12a3-9298-47ba-d98c-8d7d12d98515"
      },
      "source": [
        "classifier = LogisticRegression(max_iter=200)\r\n",
        "classifier.fit(X_train, y_train)"
      ],
      "execution_count": 36,
      "outputs": [
        {
          "output_type": "execute_result",
          "data": {
            "text/plain": [
              "LogisticRegression(C=1.0, class_weight=None, dual=False, fit_intercept=True,\n",
              "                   intercept_scaling=1, l1_ratio=None, max_iter=200,\n",
              "                   multi_class='auto', n_jobs=None, penalty='l2',\n",
              "                   random_state=None, solver='lbfgs', tol=0.0001, verbose=0,\n",
              "                   warm_start=False)"
            ]
          },
          "metadata": {
            "tags": []
          },
          "execution_count": 36
        }
      ]
    },
    {
      "cell_type": "code",
      "metadata": {
        "colab": {
          "base_uri": "https://localhost:8080/"
        },
        "id": "dl6DmRwnJcsZ",
        "outputId": "2ff894b6-a470-432c-bb2a-dda9d8cf6b66"
      },
      "source": [
        "score = classifier.score(X_test, y_test)\r\n",
        "print(\"Accuracy:\", score)"
      ],
      "execution_count": 37,
      "outputs": [
        {
          "output_type": "stream",
          "text": [
            "Accuracy: 0.6333333333333333\n"
          ],
          "name": "stdout"
        }
      ]
    },
    {
      "cell_type": "code",
      "metadata": {
        "colab": {
          "base_uri": "https://localhost:8080/"
        },
        "id": "re5s-BvuBjm6",
        "outputId": "3601fd71-5981-4ba7-8c34-7cd5ba0a13e2"
      },
      "source": [
        "predictions = classifier.predict(X_test)\r\n",
        "print(classification_report(y_test, predictions))"
      ],
      "execution_count": 38,
      "outputs": [
        {
          "output_type": "stream",
          "text": [
            "              precision    recall  f1-score   support\n",
            "\n",
            "           0       0.63      0.69      0.65      1904\n",
            "           1       0.64      0.58      0.61      1846\n",
            "\n",
            "    accuracy                           0.63      3750\n",
            "   macro avg       0.63      0.63      0.63      3750\n",
            "weighted avg       0.63      0.63      0.63      3750\n",
            "\n"
          ],
          "name": "stdout"
        }
      ]
    },
    {
      "cell_type": "code",
      "metadata": {
        "id": "X4Pemk7DCFzT"
      },
      "source": [
        ""
      ],
      "execution_count": null,
      "outputs": []
    },
    {
      "cell_type": "code",
      "metadata": {
        "id": "NoR0DWPiCFwz"
      },
      "source": [
        "#Ensemble Learning\r\n",
        "classifier = ensemble.GradientBoostingClassifier(\r\n",
        "    n_estimators = 200, #how many decision trees to build\r\n",
        "    learning_rate = 2.0, #learning rate\r\n",
        "    max_depth = 200\r\n",
        ")"
      ],
      "execution_count": 44,
      "outputs": []
    },
    {
      "cell_type": "code",
      "metadata": {
        "colab": {
          "base_uri": "https://localhost:8080/"
        },
        "id": "VfzWxxlnCFud",
        "outputId": "f32ef6c2-5b05-41c0-ba2c-de3215304247"
      },
      "source": [
        "classifier.fit(X_train, y_train)"
      ],
      "execution_count": 45,
      "outputs": [
        {
          "output_type": "execute_result",
          "data": {
            "text/plain": [
              "GradientBoostingClassifier(ccp_alpha=0.0, criterion='friedman_mse', init=None,\n",
              "                           learning_rate=2.0, loss='deviance', max_depth=200,\n",
              "                           max_features=None, max_leaf_nodes=None,\n",
              "                           min_impurity_decrease=0.0, min_impurity_split=None,\n",
              "                           min_samples_leaf=1, min_samples_split=2,\n",
              "                           min_weight_fraction_leaf=0.0, n_estimators=200,\n",
              "                           n_iter_no_change=None, presort='deprecated',\n",
              "                           random_state=None, subsample=1.0, tol=0.0001,\n",
              "                           validation_fraction=0.1, verbose=0,\n",
              "                           warm_start=False)"
            ]
          },
          "metadata": {
            "tags": []
          },
          "execution_count": 45
        }
      ]
    },
    {
      "cell_type": "code",
      "metadata": {
        "colab": {
          "base_uri": "https://localhost:8080/"
        },
        "id": "7gSmH3esCjGS",
        "outputId": "527d3907-9101-4ac9-f410-a674ced9ae59"
      },
      "source": [
        "score = classifier.score(X_test, y_test)\r\n",
        "print(\"Accuracy:\", score)"
      ],
      "execution_count": 46,
      "outputs": [
        {
          "output_type": "stream",
          "text": [
            "Accuracy: 0.5976\n"
          ],
          "name": "stdout"
        }
      ]
    },
    {
      "cell_type": "code",
      "metadata": {
        "colab": {
          "base_uri": "https://localhost:8080/"
        },
        "id": "HVuFKyWQCFsK",
        "outputId": "f060458e-4d83-485d-9797-a38939dd23f2"
      },
      "source": [
        "predictions = classifier.predict(X_test)\r\n",
        "print(classification_report(y_test, predictions))"
      ],
      "execution_count": 47,
      "outputs": [
        {
          "output_type": "stream",
          "text": [
            "              precision    recall  f1-score   support\n",
            "\n",
            "           0       0.60      0.64      0.62      1904\n",
            "           1       0.60      0.55      0.57      1846\n",
            "\n",
            "    accuracy                           0.60      3750\n",
            "   macro avg       0.60      0.60      0.60      3750\n",
            "weighted avg       0.60      0.60      0.60      3750\n",
            "\n"
          ],
          "name": "stdout"
        }
      ]
    },
    {
      "cell_type": "code",
      "metadata": {
        "id": "N4wUkioPCgFY"
      },
      "source": [
        ""
      ],
      "execution_count": null,
      "outputs": []
    },
    {
      "cell_type": "code",
      "metadata": {
        "id": "XtFzOPSpCf6q"
      },
      "source": [
        ""
      ],
      "execution_count": null,
      "outputs": []
    },
    {
      "cell_type": "markdown",
      "metadata": {
        "id": "qLrMb9GmE06K"
      },
      "source": [
        "# Model Building with TF-IDF"
      ]
    },
    {
      "cell_type": "code",
      "metadata": {
        "id": "1tpQ7UpkE7OH"
      },
      "source": [
        "from sklearn.feature_extraction.text import TfidfVectorizer\r\n",
        "\r\n",
        "# convert all text to lowercase \r\n",
        "df_train['comment'] = df_train['comment'].str.lower()"
      ],
      "execution_count": 54,
      "outputs": []
    },
    {
      "cell_type": "code",
      "metadata": {
        "id": "pk2gQeROE3gA"
      },
      "source": [
        "sentences = df_train[['comment']].values\r\n",
        "y = df_train['label'].values\r\n",
        "\r\n",
        "sentences_train, sentences_test, y_train, y_test = train_test_split(\r\n",
        "    sentences, y, test_size=0.25, random_state=1000)"
      ],
      "execution_count": 55,
      "outputs": []
    },
    {
      "cell_type": "code",
      "metadata": {
        "id": "VJvSZQWTE7MG"
      },
      "source": [
        "tfidf = TfidfVectorizer()\r\n",
        "\r\n",
        "X_train_tfidf = tfidf.fit_transform(sentences_train.ravel())\r\n",
        "X_test_tfidf = tfidf.transform(sentences_test.ravel())"
      ],
      "execution_count": 58,
      "outputs": []
    },
    {
      "cell_type": "code",
      "metadata": {
        "colab": {
          "base_uri": "https://localhost:8080/"
        },
        "id": "NVl7XEhdE7Jz",
        "outputId": "f28d48b3-c46f-42a7-a5d9-e94cebc78121"
      },
      "source": [
        "classifier = LogisticRegression(max_iter=200)\r\n",
        "classifier.fit(X_train_tfidf, y_train)"
      ],
      "execution_count": 59,
      "outputs": [
        {
          "output_type": "execute_result",
          "data": {
            "text/plain": [
              "LogisticRegression(C=1.0, class_weight=None, dual=False, fit_intercept=True,\n",
              "                   intercept_scaling=1, l1_ratio=None, max_iter=200,\n",
              "                   multi_class='auto', n_jobs=None, penalty='l2',\n",
              "                   random_state=None, solver='lbfgs', tol=0.0001, verbose=0,\n",
              "                   warm_start=False)"
            ]
          },
          "metadata": {
            "tags": []
          },
          "execution_count": 59
        }
      ]
    },
    {
      "cell_type": "code",
      "metadata": {
        "colab": {
          "base_uri": "https://localhost:8080/"
        },
        "id": "ieVXHHEDE7Hh",
        "outputId": "60984711-09e9-41a8-cd75-29ebf78ae6f1"
      },
      "source": [
        "predictions = classifier.predict(X_test_tfidf)\r\n",
        "print(classification_report(y_test, predictions))"
      ],
      "execution_count": 60,
      "outputs": [
        {
          "output_type": "stream",
          "text": [
            "              precision    recall  f1-score   support\n",
            "\n",
            "           0       0.64      0.70      0.67      1904\n",
            "           1       0.66      0.60      0.63      1846\n",
            "\n",
            "    accuracy                           0.65      3750\n",
            "   macro avg       0.65      0.65      0.65      3750\n",
            "weighted avg       0.65      0.65      0.65      3750\n",
            "\n"
          ],
          "name": "stdout"
        }
      ]
    },
    {
      "cell_type": "code",
      "metadata": {
        "id": "XKzCFw4eE7FY"
      },
      "source": [
        ""
      ],
      "execution_count": null,
      "outputs": []
    },
    {
      "cell_type": "code",
      "metadata": {
        "id": "7wC5mSIME7DS"
      },
      "source": [
        ""
      ],
      "execution_count": null,
      "outputs": []
    },
    {
      "cell_type": "code",
      "metadata": {
        "id": "RdZyKnCcE7BP"
      },
      "source": [
        ""
      ],
      "execution_count": null,
      "outputs": []
    },
    {
      "cell_type": "code",
      "metadata": {
        "id": "Si9DneZNE6-j"
      },
      "source": [
        ""
      ],
      "execution_count": null,
      "outputs": []
    },
    {
      "cell_type": "markdown",
      "metadata": {
        "id": "YNiDsr6QLrbb"
      },
      "source": [
        "# Combining Features"
      ]
    },
    {
      "cell_type": "code",
      "metadata": {
        "colab": {
          "base_uri": "https://localhost:8080/"
        },
        "id": "qjcdBEftLtxn",
        "outputId": "fc49cc57-fafd-4661-e0c2-ab120b1da74e"
      },
      "source": [
        "df_train['combined_text'] = df_train['comment'] + \" \" + df_train['parent_comment']\r\n",
        "df_train.fillna(\" \",inplace = True)\r\n",
        "df_train['combined_text'].head()"
      ],
      "execution_count": 63,
      "outputs": [
        {
          "output_type": "execute_result",
          "data": {
            "text/plain": [
              "0    well, let's be honest here, they don't actuall...\n",
              "1    well, i didn't need evidence to believe in com...\n",
              "2    who does an \"official promo\" in 360p? 2014 BMW...\n",
              "3    grotto koth was the best Not really that memor...\n",
              "4       neal's back baby James Neal hit on Zach Parise\n",
              "Name: combined_text, dtype: object"
            ]
          },
          "metadata": {
            "tags": []
          },
          "execution_count": 63
        }
      ]
    },
    {
      "cell_type": "code",
      "metadata": {
        "id": "N8CVYrLmLtvs"
      },
      "source": [
        "df_train['combined_text'] = df_train['combined_text'].str.lower()"
      ],
      "execution_count": 64,
      "outputs": []
    },
    {
      "cell_type": "code",
      "metadata": {
        "id": "k4cWvWzPLttu"
      },
      "source": [
        "sentences = df_train[['combined_text']].values\r\n",
        "y = df_train['label'].values\r\n",
        "\r\n",
        "sentences_train, sentences_test, y_train, y_test = train_test_split(\r\n",
        "    sentences, y, test_size=0.25, random_state=1000)"
      ],
      "execution_count": 65,
      "outputs": []
    },
    {
      "cell_type": "code",
      "metadata": {
        "id": "SuGxs7w_Ltrs"
      },
      "source": [
        "tfidf = TfidfVectorizer()\r\n",
        "\r\n",
        "X_train_tfidf = tfidf.fit_transform(sentences_train.ravel())\r\n",
        "X_test_tfidf = tfidf.transform(sentences_test.ravel())"
      ],
      "execution_count": 66,
      "outputs": []
    },
    {
      "cell_type": "code",
      "metadata": {
        "colab": {
          "base_uri": "https://localhost:8080/"
        },
        "id": "3YDt5613LtpM",
        "outputId": "57217e03-4522-4d3b-d962-24481c5895fb"
      },
      "source": [
        "classifier = LogisticRegression(max_iter=200)\r\n",
        "classifier.fit(X_train_tfidf, y_train)"
      ],
      "execution_count": 67,
      "outputs": [
        {
          "output_type": "execute_result",
          "data": {
            "text/plain": [
              "LogisticRegression(C=1.0, class_weight=None, dual=False, fit_intercept=True,\n",
              "                   intercept_scaling=1, l1_ratio=None, max_iter=200,\n",
              "                   multi_class='auto', n_jobs=None, penalty='l2',\n",
              "                   random_state=None, solver='lbfgs', tol=0.0001, verbose=0,\n",
              "                   warm_start=False)"
            ]
          },
          "metadata": {
            "tags": []
          },
          "execution_count": 67
        }
      ]
    },
    {
      "cell_type": "code",
      "metadata": {
        "colab": {
          "base_uri": "https://localhost:8080/"
        },
        "id": "qrSgLpQGLtXV",
        "outputId": "7afda6fa-1c0d-44ce-f2a7-19887c33c6e7"
      },
      "source": [
        "predictions = classifier.predict(X_test_tfidf)\r\n",
        "print(classification_report(y_test, predictions))"
      ],
      "execution_count": 68,
      "outputs": [
        {
          "output_type": "stream",
          "text": [
            "              precision    recall  f1-score   support\n",
            "\n",
            "           0       0.60      0.62      0.61      1904\n",
            "           1       0.60      0.58      0.59      1846\n",
            "\n",
            "    accuracy                           0.60      3750\n",
            "   macro avg       0.60      0.60      0.60      3750\n",
            "weighted avg       0.60      0.60      0.60      3750\n",
            "\n"
          ],
          "name": "stdout"
        }
      ]
    },
    {
      "cell_type": "code",
      "metadata": {
        "id": "iEa9tSiPMe96"
      },
      "source": [
        ""
      ],
      "execution_count": null,
      "outputs": []
    },
    {
      "cell_type": "code",
      "metadata": {
        "id": "ZKmUVJsnMe7d"
      },
      "source": [
        ""
      ],
      "execution_count": null,
      "outputs": []
    },
    {
      "cell_type": "markdown",
      "metadata": {
        "id": "qmldxMuWKkAi"
      },
      "source": [
        "# Testing CSV for submission"
      ]
    },
    {
      "cell_type": "code",
      "metadata": {
        "colab": {
          "base_uri": "https://localhost:8080/",
          "height": 467
        },
        "id": "GuMorQSnKCFI",
        "outputId": "be53d97f-c32c-40ce-deb1-e71dbf3ec5dc"
      },
      "source": [
        "df_test = pd.read_csv(\"/content/drive/MyDrive/ML_datasets/sarcastic dataset/Test.csv\")\r\n",
        "df_test.head()"
      ],
      "execution_count": 23,
      "outputs": [
        {
          "output_type": "execute_result",
          "data": {
            "text/html": [
              "<div>\n",
              "<style scoped>\n",
              "    .dataframe tbody tr th:only-of-type {\n",
              "        vertical-align: middle;\n",
              "    }\n",
              "\n",
              "    .dataframe tbody tr th {\n",
              "        vertical-align: top;\n",
              "    }\n",
              "\n",
              "    .dataframe thead th {\n",
              "        text-align: right;\n",
              "    }\n",
              "</style>\n",
              "<table border=\"1\" class=\"dataframe\">\n",
              "  <thead>\n",
              "    <tr style=\"text-align: right;\">\n",
              "      <th></th>\n",
              "      <th>ID</th>\n",
              "      <th>comment</th>\n",
              "      <th>date</th>\n",
              "      <th>down</th>\n",
              "      <th>parent_comment</th>\n",
              "      <th>score</th>\n",
              "      <th>top</th>\n",
              "      <th>topic</th>\n",
              "      <th>user</th>\n",
              "    </tr>\n",
              "  </thead>\n",
              "  <tbody>\n",
              "    <tr>\n",
              "      <th>0</th>\n",
              "      <td>uid_764784</td>\n",
              "      <td>Meanwhile if I pick my boxer up to move him to...</td>\n",
              "      <td>2016-01</td>\n",
              "      <td>0</td>\n",
              "      <td>Part of the Family Fun</td>\n",
              "      <td>2</td>\n",
              "      <td>2</td>\n",
              "      <td>gifs</td>\n",
              "      <td>Cameltoe-Swampdonkey</td>\n",
              "    </tr>\n",
              "    <tr>\n",
              "      <th>1</th>\n",
              "      <td>uid_67552</td>\n",
              "      <td>Thats what you get for using an unfair advanta...</td>\n",
              "      <td>2015-03</td>\n",
              "      <td>0</td>\n",
              "      <td>received a warning for hacking while overclock...</td>\n",
              "      <td>1</td>\n",
              "      <td>1</td>\n",
              "      <td>h1z1</td>\n",
              "      <td>Gothika_47</td>\n",
              "    </tr>\n",
              "    <tr>\n",
              "      <th>2</th>\n",
              "      <td>uid_240490</td>\n",
              "      <td>only to be later faced with thousands of dolla...</td>\n",
              "      <td>2010-09</td>\n",
              "      <td>0</td>\n",
              "      <td>Running shoes and race entries. I started runn...</td>\n",
              "      <td>1</td>\n",
              "      <td>1</td>\n",
              "      <td>Frugal</td>\n",
              "      <td>tells</td>\n",
              "    </tr>\n",
              "    <tr>\n",
              "      <th>3</th>\n",
              "      <td>uid_56568</td>\n",
              "      <td>What a thoughtful rebuttal to a well articulat...</td>\n",
              "      <td>2015-12</td>\n",
              "      <td>0</td>\n",
              "      <td>Actually, you should get over your self. There...</td>\n",
              "      <td>-1</td>\n",
              "      <td>-1</td>\n",
              "      <td>CFB</td>\n",
              "      <td>YourToothbrush</td>\n",
              "    </tr>\n",
              "    <tr>\n",
              "      <th>4</th>\n",
              "      <td>uid_875860</td>\n",
              "      <td>Yes, major life experiences that demand a grea...</td>\n",
              "      <td>2014-04</td>\n",
              "      <td>0</td>\n",
              "      <td>As a bonus, it was with his ex, months after t...</td>\n",
              "      <td>-5</td>\n",
              "      <td>-5</td>\n",
              "      <td>AdviceAnimals</td>\n",
              "      <td>drunken_trophy_wife</td>\n",
              "    </tr>\n",
              "  </tbody>\n",
              "</table>\n",
              "</div>"
            ],
            "text/plain": [
              "           ID  ...                  user\n",
              "0  uid_764784  ...  Cameltoe-Swampdonkey\n",
              "1   uid_67552  ...            Gothika_47\n",
              "2  uid_240490  ...                 tells\n",
              "3   uid_56568  ...        YourToothbrush\n",
              "4  uid_875860  ...   drunken_trophy_wife\n",
              "\n",
              "[5 rows x 9 columns]"
            ]
          },
          "metadata": {
            "tags": []
          },
          "execution_count": 23
        }
      ]
    },
    {
      "cell_type": "code",
      "metadata": {
        "colab": {
          "base_uri": "https://localhost:8080/"
        },
        "id": "enSVgilMBbux",
        "outputId": "34016dc4-7855-4205-8fcc-6e5b358acbce"
      },
      "source": [
        "df_test.columns"
      ],
      "execution_count": 32,
      "outputs": [
        {
          "output_type": "execute_result",
          "data": {
            "text/plain": [
              "Index(['ID', 'comment', 'date', 'down', 'parent_comment', 'score', 'top',\n",
              "       'topic', 'user'],\n",
              "      dtype='object')"
            ]
          },
          "metadata": {
            "tags": []
          },
          "execution_count": 32
        }
      ]
    },
    {
      "cell_type": "code",
      "metadata": {
        "id": "7EzAADNZKCAI"
      },
      "source": [
        "sentences_testing = df_test['comment'].values"
      ],
      "execution_count": 24,
      "outputs": []
    },
    {
      "cell_type": "code",
      "metadata": {
        "id": "Gaje8vcfK9Zl"
      },
      "source": [
        "X_testing = vectorizer.transform(sentences_testing)"
      ],
      "execution_count": 25,
      "outputs": []
    },
    {
      "cell_type": "code",
      "metadata": {
        "colab": {
          "base_uri": "https://localhost:8080/"
        },
        "id": "5MUlFNs2LImy",
        "outputId": "cb511b2b-1d56-4b4a-b750-30b0035a5a15"
      },
      "source": [
        "pred_test = classifier.predict(X_testing)\r\n",
        "pred_test"
      ],
      "execution_count": 26,
      "outputs": [
        {
          "output_type": "execute_result",
          "data": {
            "text/plain": [
              "array([0, 1, 1, ..., 1, 0, 0])"
            ]
          },
          "metadata": {
            "tags": []
          },
          "execution_count": 26
        }
      ]
    },
    {
      "cell_type": "code",
      "metadata": {
        "id": "2YFfmcibLZms"
      },
      "source": [
        ""
      ],
      "execution_count": null,
      "outputs": []
    },
    {
      "cell_type": "markdown",
      "metadata": {
        "id": "7nsP7GBANv1Q"
      },
      "source": [
        "# Submission to leaderboard"
      ]
    },
    {
      "cell_type": "code",
      "metadata": {
        "colab": {
          "base_uri": "https://localhost:8080/",
          "height": 206
        },
        "id": "xwD32sxmNxDJ",
        "outputId": "31a2606a-6119-4ece-ab49-1299ba0764f6"
      },
      "source": [
        "submission = pd.read_csv(\"/content/drive/MyDrive/ML_datasets/sarcastic dataset/sample_submission.csv\")\r\n",
        "submission.head()"
      ],
      "execution_count": 27,
      "outputs": [
        {
          "output_type": "execute_result",
          "data": {
            "text/html": [
              "<div>\n",
              "<style scoped>\n",
              "    .dataframe tbody tr th:only-of-type {\n",
              "        vertical-align: middle;\n",
              "    }\n",
              "\n",
              "    .dataframe tbody tr th {\n",
              "        vertical-align: top;\n",
              "    }\n",
              "\n",
              "    .dataframe thead th {\n",
              "        text-align: right;\n",
              "    }\n",
              "</style>\n",
              "<table border=\"1\" class=\"dataframe\">\n",
              "  <thead>\n",
              "    <tr style=\"text-align: right;\">\n",
              "      <th></th>\n",
              "      <th>ID</th>\n",
              "      <th>label</th>\n",
              "    </tr>\n",
              "  </thead>\n",
              "  <tbody>\n",
              "    <tr>\n",
              "      <th>0</th>\n",
              "      <td>uid_764784</td>\n",
              "      <td>0</td>\n",
              "    </tr>\n",
              "    <tr>\n",
              "      <th>1</th>\n",
              "      <td>uid_67552</td>\n",
              "      <td>0</td>\n",
              "    </tr>\n",
              "    <tr>\n",
              "      <th>2</th>\n",
              "      <td>uid_240490</td>\n",
              "      <td>0</td>\n",
              "    </tr>\n",
              "    <tr>\n",
              "      <th>3</th>\n",
              "      <td>uid_56568</td>\n",
              "      <td>1</td>\n",
              "    </tr>\n",
              "    <tr>\n",
              "      <th>4</th>\n",
              "      <td>uid_875860</td>\n",
              "      <td>1</td>\n",
              "    </tr>\n",
              "  </tbody>\n",
              "</table>\n",
              "</div>"
            ],
            "text/plain": [
              "           ID  label\n",
              "0  uid_764784      0\n",
              "1   uid_67552      0\n",
              "2  uid_240490      0\n",
              "3   uid_56568      1\n",
              "4  uid_875860      1"
            ]
          },
          "metadata": {
            "tags": []
          },
          "execution_count": 27
        }
      ]
    },
    {
      "cell_type": "code",
      "metadata": {
        "id": "h3yIWuZuPjc_"
      },
      "source": [
        "submission = pd.DataFrame(columns=submission.columns)"
      ],
      "execution_count": 28,
      "outputs": []
    },
    {
      "cell_type": "code",
      "metadata": {
        "id": "qf2biTB0N0mD"
      },
      "source": [
        "submission['label'] = pred_test\r\n",
        "submission['ID']=df_test['ID']"
      ],
      "execution_count": 29,
      "outputs": []
    },
    {
      "cell_type": "code",
      "metadata": {
        "colab": {
          "base_uri": "https://localhost:8080/",
          "height": 206
        },
        "id": "bT2WpWMjN4Vx",
        "outputId": "7bc7d156-2596-4678-8c6a-00f10a62947e"
      },
      "source": [
        "submission.head()"
      ],
      "execution_count": 30,
      "outputs": [
        {
          "output_type": "execute_result",
          "data": {
            "text/html": [
              "<div>\n",
              "<style scoped>\n",
              "    .dataframe tbody tr th:only-of-type {\n",
              "        vertical-align: middle;\n",
              "    }\n",
              "\n",
              "    .dataframe tbody tr th {\n",
              "        vertical-align: top;\n",
              "    }\n",
              "\n",
              "    .dataframe thead th {\n",
              "        text-align: right;\n",
              "    }\n",
              "</style>\n",
              "<table border=\"1\" class=\"dataframe\">\n",
              "  <thead>\n",
              "    <tr style=\"text-align: right;\">\n",
              "      <th></th>\n",
              "      <th>ID</th>\n",
              "      <th>label</th>\n",
              "    </tr>\n",
              "  </thead>\n",
              "  <tbody>\n",
              "    <tr>\n",
              "      <th>0</th>\n",
              "      <td>uid_764784</td>\n",
              "      <td>0</td>\n",
              "    </tr>\n",
              "    <tr>\n",
              "      <th>1</th>\n",
              "      <td>uid_67552</td>\n",
              "      <td>1</td>\n",
              "    </tr>\n",
              "    <tr>\n",
              "      <th>2</th>\n",
              "      <td>uid_240490</td>\n",
              "      <td>1</td>\n",
              "    </tr>\n",
              "    <tr>\n",
              "      <th>3</th>\n",
              "      <td>uid_56568</td>\n",
              "      <td>0</td>\n",
              "    </tr>\n",
              "    <tr>\n",
              "      <th>4</th>\n",
              "      <td>uid_875860</td>\n",
              "      <td>0</td>\n",
              "    </tr>\n",
              "  </tbody>\n",
              "</table>\n",
              "</div>"
            ],
            "text/plain": [
              "           ID  label\n",
              "0  uid_764784      0\n",
              "1   uid_67552      1\n",
              "2  uid_240490      1\n",
              "3   uid_56568      0\n",
              "4  uid_875860      0"
            ]
          },
          "metadata": {
            "tags": []
          },
          "execution_count": 30
        }
      ]
    },
    {
      "cell_type": "code",
      "metadata": {
        "colab": {
          "base_uri": "https://localhost:8080/"
        },
        "id": "MH4LcVjhP2hW",
        "outputId": "8e2bce55-7a90-4c5b-bb37-fadc122617ed"
      },
      "source": [
        "submission.shape"
      ],
      "execution_count": 31,
      "outputs": [
        {
          "output_type": "execute_result",
          "data": {
            "text/plain": [
              "(8000, 2)"
            ]
          },
          "metadata": {
            "tags": []
          },
          "execution_count": 31
        }
      ]
    },
    {
      "cell_type": "code",
      "metadata": {
        "id": "PzHOamNIN-y1"
      },
      "source": [
        "pd.DataFrame(submission).to_csv('my_sub_1.csv', index=False)"
      ],
      "execution_count": null,
      "outputs": []
    },
    {
      "cell_type": "code",
      "metadata": {
        "id": "oK5Tfeb0P6F_"
      },
      "source": [
        ""
      ],
      "execution_count": null,
      "outputs": []
    }
  ]
}